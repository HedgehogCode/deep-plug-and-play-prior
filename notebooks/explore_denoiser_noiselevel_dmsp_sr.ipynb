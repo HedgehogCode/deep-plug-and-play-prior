{
 "cells": [
  {
   "cell_type": "code",
   "execution_count": null,
   "id": "1e1c6924",
   "metadata": {},
   "outputs": [],
   "source": [
    "%cd ..\n",
    "%config Completer.use_jedi = False\n",
    "%load_ext autoreload\n",
    "%autoreload 2"
   ]
  },
  {
   "cell_type": "code",
   "execution_count": null,
   "id": "b858b471",
   "metadata": {},
   "outputs": [],
   "source": [
    "import os\n",
    "import tensorflow as tf\n",
    "import tensorflow_datasets as tfds\n",
    "\n",
    "import tensorflow_datasets_bw as datasets\n",
    "from tensorflow_datasets_bw import visualize\n",
    "import dppp"
   ]
  },
  {
   "cell_type": "code",
   "execution_count": null,
   "id": "061dd5a3",
   "metadata": {},
   "outputs": [],
   "source": [
    "scale_factor = 5\n",
    "resize_method = tf.image.ResizeMethod.BICUBIC\n",
    "\n",
    "builder_kwargs = {\n",
    "    'resize_method': resize_method,\n",
    "    'scale': scale_factor,\n",
    "    'antialias': True\n",
    "}\n",
    "images = tfds.load(name=\"set5\", split=\"test\", builder_kwargs=builder_kwargs) \\\n",
    "                .map(datasets.map_on_dict(datasets.to_float32)) \\\n",
    "                .map(datasets.map_on_dict(datasets.from_255_to_1_range))"
   ]
  },
  {
   "cell_type": "code",
   "execution_count": null,
   "id": "82fc0fe6",
   "metadata": {},
   "outputs": [],
   "source": [
    "# Pick a new random image\n",
    "image_dict = datasets.get_one_example(images, random=True)\n",
    "image_hr = image_dict['hr'][None, ...]\n",
    "image_lr = image_dict['lr'][None, ...]"
   ]
  },
  {
   "cell_type": "code",
   "execution_count": null,
   "id": "7f7e63ef",
   "metadata": {},
   "outputs": [],
   "source": [
    "# Load the denoiser\n",
    "denoiser, (_, _) = dppp.load_denoiser('models/drunet+_0.0-0.2.h5')"
   ]
  },
  {
   "cell_type": "code",
   "execution_count": null,
   "id": "a14a9675",
   "metadata": {},
   "outputs": [],
   "source": [
    "denoiser_stddevs = [0.02, 0.05, 0.1, 0.2]\n",
    "num_steps = 100\n",
    "\n",
    "# Print the PSNR every 20th step\n",
    "callbacks = [dppp.callback_print_psnr('psnr', 20, image_hr)]\n",
    "\n",
    "reconstructed = []\n",
    "\n",
    "for dstddev in denoiser_stddevs:\n",
    "    print()\n",
    "    print(f\"Running for denoiser stddev {dstddev:0.2f}:\")\n",
    "    print(\"=================================\")\n",
    "    reconstructed.append(dppp.dmsp_super_resolve(image_lr, scale_factor,\n",
    "                                                 denoiser, dstddev,\n",
    "                                                 num_steps=num_steps, callbacks=callbacks))\n",
    "    \n",
    "\n",
    "print()\n",
    "print(\"FINAL RESULTS:\")\n",
    "for dstddev, rec in zip(denoiser_stddevs, reconstructed):\n",
    "    psnr = dppp.psnr(image_hr, rec).numpy()[0]\n",
    "    print(f\"PSNR for denoiser stddev {dstddev:0.2f}: {psnr}\")"
   ]
  }
 ],
 "metadata": {
  "kernelspec": {
   "display_name": "Python 3",
   "language": "python",
   "name": "python3"
  },
  "language_info": {
   "codemirror_mode": {
    "name": "ipython",
    "version": 3
   },
   "file_extension": ".py",
   "mimetype": "text/x-python",
   "name": "python",
   "nbconvert_exporter": "python",
   "pygments_lexer": "ipython3",
   "version": "3.6.9"
  }
 },
 "nbformat": 4,
 "nbformat_minor": 5
}
