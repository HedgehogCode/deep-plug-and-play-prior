{
 "cells": [
  {
   "cell_type": "code",
   "execution_count": null,
   "metadata": {},
   "outputs": [],
   "source": [
    "%cd ..\n",
    "%load_ext autoreload\n",
    "%autoreload 2"
   ]
  },
  {
   "cell_type": "code",
   "execution_count": null,
   "metadata": {},
   "outputs": [],
   "source": [
    "import tensorflow as tf\n",
    "\n",
    "tf.get_logger().setLevel(\"ERROR\")\n",
    "import tensorflow_datasets as tfds\n",
    "\n",
    "import tensorflow_datasets_bw as datasets\n",
    "from tensorflow_datasets_bw import visualize\n",
    "import dppp\n"
   ]
  },
  {
   "cell_type": "markdown",
   "metadata": {},
   "source": [
    "# Using Bicubic Downscaling"
   ]
  },
  {
   "cell_type": "code",
   "execution_count": null,
   "metadata": {},
   "outputs": [],
   "source": [
    "scale_factor = 4\n",
    "resize_method = tf.image.ResizeMethod.BICUBIC\n",
    "\n",
    "builder_kwargs = {\n",
    "    \"resize_method\": resize_method,\n",
    "    \"scale\": scale_factor,\n",
    "    \"antialias\": True,\n",
    "}\n",
    "images = (\n",
    "    tfds.load(name=\"set14\", split=\"test\", builder_kwargs=builder_kwargs)\n",
    "    .map(datasets.map_on_dict(datasets.to_float32))\n",
    "    .map(datasets.map_on_dict(datasets.from_255_to_1_range))\n",
    ")\n"
   ]
  },
  {
   "cell_type": "code",
   "execution_count": null,
   "metadata": {},
   "outputs": [],
   "source": [
    "image_dict = datasets.get_one_example(images, index=2)\n",
    "image_hr = image_dict[\"hr\"][None, ...]\n",
    "image_lr = image_dict[\"lr\"][None, ...]\n"
   ]
  },
  {
   "cell_type": "markdown",
   "metadata": {},
   "source": [
    "### Reconstruct"
   ]
  },
  {
   "cell_type": "code",
   "execution_count": null,
   "metadata": {},
   "outputs": [],
   "source": [
    "# Load the denoiser\n",
    "denoiser, (denoiser_min_stddev, denoiser_max_stddev) = dppp.load_denoiser(\n",
    "    \"models/drugan+_0.0-0.2.h5\"\n",
    ")\n",
    "\n",
    "# Define the noise stddev used for the stochastic evaluation of the prior\n",
    "if denoiser_min_stddev <= 0.1 <= denoiser_max_stddev:\n",
    "    denoiser_stddev = 0.1\n",
    "else:\n",
    "    denoiser_stddev = denoiser_max_stddev\n",
    "\n",
    "# Callbacks: Print the PSNR every 20th step\n",
    "callbacks = [dppp.callback_print_psnr(\"psnr\", 20, image_hr)]\n",
    "\n",
    "# Reconstruct the image\n",
    "reconstructed = dppp.dmsp_super_resolve(\n",
    "    degraded=image_lr,\n",
    "    sr_factor=scale_factor,\n",
    "    denoiser=denoiser,\n",
    "    denoiser_stddev=denoiser_stddev,\n",
    "    num_steps=300,\n",
    "    callbacks=callbacks,\n",
    ")\n"
   ]
  },
  {
   "cell_type": "code",
   "execution_count": null,
   "metadata": {},
   "outputs": [],
   "source": [
    "# Print PSNR and LPIPS\n",
    "psnr = dppp.psnr(image_hr, reconstructed).numpy()[0]\n",
    "lpips = dppp.lpips_alex(image_hr, reconstructed).numpy()[0]\n",
    "print(f\"Reconstructed PSNR: {psnr:0.2f}, LPIPS: {lpips:0.4f}\")\n",
    "\n",
    "# Visualize\n",
    "visualize.draw_images([image_hr[0], image_lr[0], reconstructed[0]])"
   ]
  },
  {
   "cell_type": "markdown",
   "metadata": {},
   "source": [
    "# Using a Gaussian Blur Kernel"
   ]
  },
  {
   "cell_type": "code",
   "execution_count": null,
   "metadata": {},
   "outputs": [],
   "source": [
    "scale_factor = 2\n",
    "images = (\n",
    "    tfds.load(name=\"cbsd68\", split=\"test\")\n",
    "    .map(datasets.get_image)\n",
    "    .map(datasets.to_float32)\n",
    "    .map(datasets.from_255_to_1_range)\n",
    ")\n",
    "image_hr = datasets.get_one_example(images, index=31)[None, :480, :320, :]\n",
    "kernel = dppp.conv2D_filter_rgb(dppp.ZHANG_GAUSSIAN_KERNELS[6])\n",
    "image_blurred = dppp.blur(image_hr, kernel, 0, mode=\"wrap\")\n",
    "image_lr = image_blurred[:,::scale_factor,::scale_factor,:]"
   ]
  },
  {
   "cell_type": "markdown",
   "metadata": {},
   "source": [
    "### Reconstruct"
   ]
  },
  {
   "cell_type": "code",
   "execution_count": null,
   "metadata": {},
   "outputs": [],
   "source": [
    "# Load the denoiser\n",
    "denoiser, (denoiser_min_stddev, denoiser_max_stddev) = dppp.load_denoiser(\n",
    "    \"models/drugan+_0.0-0.2.h5\"\n",
    ")\n",
    "\n",
    "# Define the noise stddev used for the stochastic evaluation of the prior\n",
    "if denoiser_min_stddev <= 0.1 <= denoiser_max_stddev:\n",
    "    denoiser_stddev = 0.1\n",
    "else:\n",
    "    denoiser_stddev = denoiser_max_stddev\n",
    "\n",
    "# Callbacks: Print the PSNR every 20th step\n",
    "callbacks = [dppp.callback_print_psnr(\"psnr\", 20, image_hr)]\n",
    "\n",
    "reconstructed = dppp.dmsp_super_resolve(\n",
    "    degraded=image_lr,\n",
    "    sr_factor=scale_factor,\n",
    "    denoiser=denoiser,\n",
    "    denoiser_stddev=denoiser_stddev,\n",
    "    kernel=kernel,\n",
    "    callbacks=callbacks,\n",
    "    conv_mode=\"wrap\",\n",
    ")\n"
   ]
  },
  {
   "cell_type": "code",
   "execution_count": null,
   "metadata": {},
   "outputs": [],
   "source": [
    "# Print PSNR and LPIPS\n",
    "psnr = dppp.psnr(image_hr, reconstructed).numpy()[0]\n",
    "lpips = dppp.lpips_alex(image_hr, reconstructed).numpy()[0]\n",
    "print(f\"Reconstructed PSNR: {psnr:0.2f}, LPIPS: {lpips:0.4f}\")\n",
    "\n",
    "# Visualize\n",
    "visualize.draw_images([image_hr[0], image_lr[0], reconstructed[0]])"
   ]
  }
 ],
 "metadata": {
  "interpreter": {
   "hash": "4cd7ab41f5fca4b9b44701077e38c5ffd31fe66a6cab21e0214b68d958d0e462"
  },
  "kernelspec": {
   "display_name": "Python 3.6.9 64-bit",
   "name": "python3"
  },
  "language_info": {
   "codemirror_mode": {
    "name": "ipython",
    "version": 3
   },
   "file_extension": ".py",
   "mimetype": "text/x-python",
   "name": "python",
   "nbconvert_exporter": "python",
   "pygments_lexer": "ipython3",
   "version": "3.6.13"
  }
 },
 "nbformat": 4,
 "nbformat_minor": 2
}
