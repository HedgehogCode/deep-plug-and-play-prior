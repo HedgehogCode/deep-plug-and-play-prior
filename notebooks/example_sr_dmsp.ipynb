{
 "cells": [
  {
   "cell_type": "code",
   "execution_count": null,
   "metadata": {},
   "outputs": [],
   "source": [
    "%cd ..\n",
    "%config Completer.use_jedi = False\n",
    "%load_ext autoreload\n",
    "%autoreload 2"
   ]
  },
  {
   "cell_type": "code",
   "execution_count": null,
   "metadata": {},
   "outputs": [],
   "source": [
    "import os\n",
    "import tensorflow as tf\n",
    "import tensorflow_datasets as tfds\n",
    "\n",
    "import tensorflow_datasets_bw as datasets\n",
    "from tensorflow_datasets_bw import visualize\n",
    "import dppp"
   ]
  },
  {
   "cell_type": "markdown",
   "metadata": {},
   "source": [
    "# Load an example dataset and example kernels"
   ]
  },
  {
   "cell_type": "code",
   "execution_count": null,
   "metadata": {},
   "outputs": [],
   "source": [
    "scale_factor = 4\n",
    "resize_method = tf.image.ResizeMethod.BICUBIC\n",
    "\n",
    "builder_kwargs = {\n",
    "    'resize_method': resize_method,\n",
    "    'scale': scale_factor,\n",
    "    'antialias': True\n",
    "}\n",
    "images = tfds.load(name=\"set14\", split=\"test\", builder_kwargs=builder_kwargs) \\\n",
    "                .map(datasets.map_on_dict(datasets.to_float32)) \\\n",
    "                .map(datasets.map_on_dict(datasets.from_255_to_1_range))"
   ]
  },
  {
   "cell_type": "code",
   "execution_count": null,
   "metadata": {},
   "outputs": [],
   "source": [
    "image_dict = datasets.get_one_example(images, index=2)\n",
    "image_hr = image_dict['hr'][None, ...]\n",
    "image_lr = image_dict['lr'][None, ...]"
   ]
  },
  {
   "cell_type": "markdown",
   "metadata": {},
   "source": [
    "# Reconstruct the image"
   ]
  },
  {
   "cell_type": "code",
   "execution_count": null,
   "metadata": {},
   "outputs": [],
   "source": [
    "# Load the denoiser\n",
    "denoiser, (denoiser_min_stddev, denoiser_max_stddev) = dppp.load_denoiser('models/drugan+_0.0-0.2.h5')\n",
    "\n",
    "# Define the noise stddev used for the stochastic evaluation of the prior\n",
    "if denoiser_min_stddev <= 0.1 <= denoiser_max_stddev:\n",
    "    denoiser_stddev = 0.1\n",
    "else:\n",
    "    denoiser_stddev = denoiser_max_stddev\n",
    "\n",
    "# Callbacks: Print the PSNR every 20th step\n",
    "callbacks = [ dppp.callback_print_psnr('psnr', 20, image_hr) ]\n",
    "\n",
    "# Reconstruct the image\n",
    "reconstructed = dppp.dmsp_super_resolve(image_lr, scale_factor, denoiser, denoiser_stddev,\n",
    "                                        num_steps=300, callbacks=callbacks)"
   ]
  },
  {
   "cell_type": "code",
   "execution_count": null,
   "metadata": {},
   "outputs": [],
   "source": [
    "# Print PSNR and FSIM\n",
    "psnr = dppp.psnr(image_hr, reconstructed).numpy()[0]\n",
    "fsim = dppp.fsim(image_hr, reconstructed).numpy()[0]\n",
    "print(f\"Reconstructed PSNR: {psnr:0.2f}, FSIM: {fsim:0.4f}\")\n",
    "\n",
    "# Visualize\n",
    "visualize.draw_images([image_hr[0], image_lr[0], reconstructed[0]])"
   ]
  }
 ],
 "metadata": {
  "kernelspec": {
   "display_name": "Python 3",
   "language": "python",
   "name": "python3"
  },
  "language_info": {
   "codemirror_mode": {
    "name": "ipython",
    "version": 3
   },
   "file_extension": ".py",
   "mimetype": "text/x-python",
   "name": "python",
   "nbconvert_exporter": "python",
   "pygments_lexer": "ipython3",
   "version": "3.6.9"
  }
 },
 "nbformat": 4,
 "nbformat_minor": 2
}
