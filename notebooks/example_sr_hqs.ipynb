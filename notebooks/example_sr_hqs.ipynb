{
 "cells": [
  {
   "cell_type": "code",
   "execution_count": null,
   "metadata": {},
   "outputs": [],
   "source": [
    "%cd ..\n",
    "%config Completer.use_jedi = False\n",
    "%load_ext autoreload\n",
    "%autoreload 2"
   ]
  },
  {
   "cell_type": "code",
   "execution_count": null,
   "metadata": {},
   "outputs": [],
   "source": [
    "import os\n",
    "import tensorflow as tf\n",
    "import tensorflow_datasets as tfds\n",
    "\n",
    "import tensorflow_datasets_bw as datasets\n",
    "from tensorflow_datasets_bw import visualize\n",
    "import dppp"
   ]
  },
  {
   "cell_type": "markdown",
   "metadata": {},
   "source": [
    "# Load an example dataset and example kernels"
   ]
  },
  {
   "cell_type": "code",
   "execution_count": null,
   "metadata": {},
   "outputs": [],
   "source": [
    "scale_factor = 4\n",
    "resize_method = tf.image.ResizeMethod.BICUBIC\n",
    "\n",
    "builder_kwargs = {\n",
    "    'resize_method': resize_method,\n",
    "    'scale': scale_factor,\n",
    "    'antialias': True\n",
    "}\n",
    "images = tfds.load(name=\"set14\", split=\"test\", builder_kwargs=builder_kwargs) \\\n",
    "                .map(datasets.map_on_dict(datasets.to_float32)) \\\n",
    "                .map(datasets.map_on_dict(datasets.from_255_to_1_range))"
   ]
  },
  {
   "cell_type": "code",
   "execution_count": null,
   "metadata": {},
   "outputs": [],
   "source": [
    "image_dict = datasets.get_one_example(images, index=2)\n",
    "image_hr = image_dict['hr'][None, ...]\n",
    "image_lr_bicubic = image_dict['lr'][None, ...]"
   ]
  },
  {
   "cell_type": "markdown",
   "metadata": {},
   "source": [
    "# Reconstruct the image - Bicubic"
   ]
  },
  {
   "cell_type": "code",
   "execution_count": null,
   "metadata": {},
   "outputs": [],
   "source": [
    "# Load the denoiser\n",
    "denoiser, (denoiser_min, denoiser_max) = dppp.load_denoiser('models/drugan+_0.0-0.2.h5')\n",
    "\n",
    "# Callbacks: Print the PSNR every 5th step\n",
    "callbacks = [ dppp.callback_print_psnr('psnr', 5, image_hr) ]\n",
    "\n",
    "resize_fn = dppp.create_resize_fn(resize_method)\n",
    "reconstructed_bicubic = dppp.hqs_super_resolve(image_lr_bicubic,\n",
    "                                       scale_factor,\n",
    "                                       denoiser,\n",
    "                                       denoiser_max,\n",
    "                                       resize_fn=resize_fn,\n",
    "                                       callbacks=callbacks)"
   ]
  },
  {
   "cell_type": "code",
   "execution_count": null,
   "metadata": {},
   "outputs": [],
   "source": [
    "# Print PSNR and FSIM\n",
    "psnr = dppp.psnr(image_hr, reconstructed_bicubic).numpy()[0]\n",
    "fsim = dppp.fsim(image_hr, reconstructed_bicubic).numpy()[0]\n",
    "print(f\"Reconstructed PSNR: {psnr:0.2f}, FSIM: {fsim:0.4f}\")\n",
    "\n",
    "# Visualize\n",
    "visualize.draw_images([image_hr[0], image_lr_bicubic[0], reconstructed_bicubic[0]])"
   ]
  },
  {
   "cell_type": "markdown",
   "metadata": {},
   "source": [
    "# Reconstruct the image - Gaussian (or any blur kernel)"
   ]
  },
  {
   "cell_type": "markdown",
   "metadata": {},
   "source": [
    "## Create the downscaled image"
   ]
  },
  {
   "cell_type": "code",
   "execution_count": null,
   "metadata": {},
   "outputs": [],
   "source": [
    "import math\n",
    "\n",
    "# Create gaussian kernel\n",
    "sigma = 2 * scale_factor / 6.0\n",
    "size = math.ceil(sigma * 3)\n",
    "kernel = dppp.conv2D_filter_rgb(dppp.gaussian_kernel(size, 0, sigma))\n",
    "\n",
    "# Blur & Downsample\n",
    "image_blurred = dppp.blur(image_hr, kernel, 0, mode='wrap')\n",
    "image_lr_gaussian = image_blurred[:,::scale_factor,::scale_factor,:]"
   ]
  },
  {
   "cell_type": "markdown",
   "metadata": {},
   "source": [
    "## Reconstruct"
   ]
  },
  {
   "cell_type": "code",
   "execution_count": null,
   "metadata": {},
   "outputs": [],
   "source": [
    "# Load the denoiser\n",
    "denoiser, (denoiser_min, denoiser_max) = dppp.load_denoiser('models/drugan+_0.0-0.2.h5')\n",
    "\n",
    "# Callbacks: Print the PSNR every 5th step\n",
    "callbacks = [ dppp.callback_print_psnr('psnr', 5, image_hr) ]\n",
    "\n",
    "reconstructed_gaussian = dppp.hqs_super_resolve(image_lr_gaussian,\n",
    "                                       scale_factor,\n",
    "                                       denoiser,\n",
    "                                       denoiser_max,\n",
    "                                       kernel=kernel,\n",
    "                                       callbacks=callbacks)"
   ]
  },
  {
   "cell_type": "code",
   "execution_count": null,
   "metadata": {},
   "outputs": [],
   "source": [
    "# Print PSNR and FSIM\n",
    "psnr = dppp.psnr(image_hr, reconstructed_gaussian).numpy()[0]\n",
    "fsim = dppp.fsim(image_hr, reconstructed_gaussian).numpy()[0]\n",
    "print(f\"Reconstructed PSNR: {psnr:0.2f}, FSIM: {fsim:0.4f}\")\n",
    "\n",
    "# Visualize\n",
    "visualize.draw_images([image_hr[0], image_lr_gaussian[0], reconstructed_gaussian[0]])"
   ]
  }
 ],
 "metadata": {
  "kernelspec": {
   "display_name": "Python 3",
   "language": "python",
   "name": "python3"
  },
  "language_info": {
   "codemirror_mode": {
    "name": "ipython",
    "version": 3
   },
   "file_extension": ".py",
   "mimetype": "text/x-python",
   "name": "python",
   "nbconvert_exporter": "python",
   "pygments_lexer": "ipython3",
   "version": "3.6.9"
  }
 },
 "nbformat": 4,
 "nbformat_minor": 2
}
