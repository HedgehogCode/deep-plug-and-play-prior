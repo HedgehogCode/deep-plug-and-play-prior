{
 "cells": [
  {
   "cell_type": "code",
   "execution_count": null,
   "id": "a24a5803",
   "metadata": {},
   "outputs": [],
   "source": [
    "%cd ..\n",
    "%config Completer.use_jedi = False\n",
    "%load_ext autoreload\n",
    "%autoreload 2"
   ]
  },
  {
   "cell_type": "code",
   "execution_count": null,
   "id": "f021c7a3",
   "metadata": {},
   "outputs": [],
   "source": [
    "import os\n",
    "import tensorflow as tf\n",
    "import tensorflow_datasets as tfds\n",
    "\n",
    "import tensorflow_datasets_bw as datasets\n",
    "from tensorflow_datasets_bw import visualize\n",
    "import dppp"
   ]
  },
  {
   "cell_type": "code",
   "execution_count": null,
   "id": "1339e3fd",
   "metadata": {},
   "outputs": [],
   "source": [
    "images = tfds.load(name=\"bsds500\", split=\"validation\") \\\n",
    "                .map(datasets.get_image) \\\n",
    "                .map(datasets.to_float32) \\\n",
    "                .map(datasets.from_255_to_1_range)\n",
    "kernels = tfds.load(name='schelten_kernels/dmsp', split='test') \\\n",
    "                .map(datasets.crop_kernel_to_size) \\\n",
    "                .map(datasets.get_value('kernel')) \\\n",
    "                .map(datasets.to_float32) \\\n",
    "                .map(dppp.conv2D_filter_rgb)"
   ]
  },
  {
   "cell_type": "code",
   "execution_count": null,
   "id": "3e21bbcc",
   "metadata": {},
   "outputs": [],
   "source": [
    "# Specify the level of noise added to the blurred image\n",
    "noise_stddev = 0.01"
   ]
  },
  {
   "cell_type": "code",
   "execution_count": null,
   "id": "230eeff3",
   "metadata": {},
   "outputs": [],
   "source": [
    "# Pick a new random image\n",
    "image = datasets.get_one_example(images, random=True)[None,...]\n",
    "kernel = datasets.get_one_example(kernels, random=True)\n",
    "degraded = dppp.blur(image, kernel, noise_stddev, clip_final=False)"
   ]
  },
  {
   "cell_type": "code",
   "execution_count": null,
   "id": "afce4d18",
   "metadata": {},
   "outputs": [],
   "source": [
    "# Load the denoiser\n",
    "denoiser, (_, _) = dppp.load_denoiser('models/drunet+_0.0-0.2.h5')"
   ]
  },
  {
   "cell_type": "code",
   "execution_count": null,
   "id": "b5456d90",
   "metadata": {},
   "outputs": [],
   "source": [
    "denoiser_stddevs = [0.05, 0.125, 0.2]\n",
    "num_steps = 100\n",
    "\n",
    "# Print the PSNR every 20th step\n",
    "callbacks = [dppp.callback_print_psnr('psnr', 20, image)]\n",
    "\n",
    "reconstructed = []\n",
    "\n",
    "for dstddev in denoiser_stddevs:\n",
    "    print()\n",
    "    print(f\"Running for denoiser stddev {dstddev:0.2f}:\")\n",
    "    print(\"=================================\")\n",
    "    reconstructed.append(dppp.dmsp_deblur_nb(degraded, kernel, noise_stddev,\n",
    "                                        denoiser, dstddev,\n",
    "                                        num_steps=num_steps, callbacks=callbacks))\n",
    "    \n",
    "\n",
    "print()\n",
    "print(\"FINAL RESULTS:\")\n",
    "for dstddev, rec in zip(denoiser_stddevs, reconstructed):\n",
    "    psnr = dppp.psnr(image, rec).numpy()[0]\n",
    "    print(f\"PSNR for denoiser stddev {dstddev:0.2f}: {psnr}\")"
   ]
  }
 ],
 "metadata": {
  "kernelspec": {
   "display_name": "Python 3",
   "language": "python",
   "name": "python3"
  },
  "language_info": {
   "codemirror_mode": {
    "name": "ipython",
    "version": 3
   },
   "file_extension": ".py",
   "mimetype": "text/x-python",
   "name": "python",
   "nbconvert_exporter": "python",
   "pygments_lexer": "ipython3",
   "version": "3.6.9"
  }
 },
 "nbformat": 4,
 "nbformat_minor": 5
}
