{
 "cells": [
  {
   "cell_type": "code",
   "execution_count": null,
   "metadata": {},
   "outputs": [],
   "source": [
    "%cd ..\n",
    "%config Completer.use_jedi = False\n",
    "%load_ext autoreload\n",
    "%autoreload 2"
   ]
  },
  {
   "cell_type": "code",
   "execution_count": null,
   "metadata": {},
   "outputs": [],
   "source": [
    "import os\n",
    "import tensorflow as tf\n",
    "import tensorflow_datasets as tfds\n",
    "\n",
    "import tensorflow_datasets_bw as datasets\n",
    "from tensorflow_datasets_bw import visualize\n",
    "import dppp"
   ]
  },
  {
   "cell_type": "markdown",
   "metadata": {},
   "source": [
    "# Load an example dataset and example kernels"
   ]
  },
  {
   "cell_type": "code",
   "execution_count": null,
   "metadata": {},
   "outputs": [],
   "source": [
    "images = tfds.load(name=\"bsds500\", split=\"validation\") \\\n",
    "                .map(datasets.get_image) \\\n",
    "                .map(datasets.to_float32) \\\n",
    "                .map(datasets.from_255_to_1_range)\n",
    "kernels = tfds.load(name='schelten_kernels/dmsp', split='test') \\\n",
    "                .map(datasets.crop_kernel_to_size) \\\n",
    "                .map(datasets.get_value('kernel')) \\\n",
    "                .map(datasets.to_float32) \\\n",
    "                .map(dppp.conv2D_filter_rgb)"
   ]
  },
  {
   "cell_type": "code",
   "execution_count": null,
   "metadata": {},
   "outputs": [],
   "source": [
    "mode = 'wrap'  # Border mode ('constant' or 'wrap')\n",
    "noise_stddev = 0.04\n",
    "image = datasets.get_one_example(images, index=67)[None,...]\n",
    "kernel = datasets.get_one_example(kernels, index=0)"
   ]
  },
  {
   "cell_type": "markdown",
   "metadata": {},
   "source": [
    "# Degrade the image"
   ]
  },
  {
   "cell_type": "code",
   "execution_count": null,
   "metadata": {},
   "outputs": [],
   "source": [
    "degraded = dppp.blur(image, kernel, noise_stddev, clip_final=False, mode=mode)"
   ]
  },
  {
   "cell_type": "markdown",
   "metadata": {},
   "source": [
    "# Reconstruct the image"
   ]
  },
  {
   "cell_type": "code",
   "execution_count": null,
   "metadata": {},
   "outputs": [],
   "source": [
    "# Load the denoiser\n",
    "denoiser, (denoiser_min_stddev, denoiser_max_stddev) = dppp.load_denoiser('models/drugan+_0.0-0.2.h5')\n",
    "\n",
    "# Define the noise stddev used for the stochastic evaluation of the prior\n",
    "if denoiser_min_stddev <= 0.1 <= denoiser_max_stddev:\n",
    "    denoiser_stddev = 0.1\n",
    "else:\n",
    "    denoiser_stddev = denoiser_max_stddev\n",
    "\n",
    "# Callbacks\n",
    "log_dir = os.path.join('logs', 'dmsp_nb')\n",
    "callbacks = [\n",
    "    # Print the PSNR every 20th step\n",
    "    dppp.callback_print_psnr('psnr', 20, image),\n",
    "    # Log the SSIM to TensorBoard\n",
    "    dppp.callback_tb_ssim(log_dir, 'ssim', image)\n",
    "]\n",
    "\n",
    "# Reconstruct the image\n",
    "reconstructed = dppp.dmsp_deblur_nb(degraded, kernel, noise_stddev, denoiser, denoiser_stddev,\n",
    "                                    num_steps=300, mode=mode, callbacks=callbacks)"
   ]
  },
  {
   "cell_type": "code",
   "execution_count": null,
   "metadata": {},
   "outputs": [],
   "source": [
    "# Print PSNR and FSIM\n",
    "psnr = dppp.psnr(image, reconstructed).numpy()[0]\n",
    "fsim = dppp.fsim(image, reconstructed).numpy()[0]\n",
    "print(f\"Reconstructed PSNR: {psnr:0.2f}, FSIM: {fsim:0.4f}\")\n",
    "\n",
    "# Visualize\n",
    "visualize.draw_images([image[0], degraded[0], reconstructed[0]])"
   ]
  }
 ],
 "metadata": {
  "kernelspec": {
   "display_name": "Python 3",
   "language": "python",
   "name": "python3"
  },
  "language_info": {
   "codemirror_mode": {
    "name": "ipython",
    "version": 3
   },
   "file_extension": ".py",
   "mimetype": "text/x-python",
   "name": "python",
   "nbconvert_exporter": "python",
   "pygments_lexer": "ipython3",
   "version": "3.6.9"
  }
 },
 "nbformat": 4,
 "nbformat_minor": 2
}
