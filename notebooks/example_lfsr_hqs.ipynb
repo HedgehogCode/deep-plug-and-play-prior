{
 "cells": [
  {
   "cell_type": "code",
   "execution_count": null,
   "metadata": {},
   "outputs": [],
   "source": [
    "%cd ..\n",
    "%load_ext autoreload\n",
    "%autoreload 2"
   ]
  },
  {
   "cell_type": "code",
   "execution_count": null,
   "metadata": {},
   "outputs": [],
   "source": [
    "import tensorflow as tf\n",
    "\n",
    "tf.get_logger().setLevel(\"ERROR\")\n",
    "import tensorflow_datasets as tfds\n",
    "\n",
    "import tensorflow_datasets_bw as datasets\n",
    "from tensorflow_datasets_bw import visualize\n",
    "import dppp\n"
   ]
  },
  {
   "cell_type": "markdown",
   "metadata": {},
   "source": [
    "# Using Bicubic Downscaling\n"
   ]
  },
  {
   "cell_type": "code",
   "execution_count": null,
   "metadata": {},
   "outputs": [],
   "source": [
    "scale_factor = 4\n",
    "resize_fn = dppp.create_resize_fn(\"bicubic\", True)\n",
    "\n",
    "lf_dataset = tfds.load(\"hci_lf\", split=\"test\").map(\n",
    "    datasets.compose(\n",
    "        datasets.map_on_dict_key(\"lf\", datasets.to_float32),\n",
    "        datasets.map_on_dict_key(\"lf\", datasets.from_255_to_1_range),\n",
    "    )\n",
    ")\n",
    "\n",
    "example = datasets.get_one_example(lf_dataset, index=0)\n",
    "lf_hr = example[\"lf\"]\n",
    "lf_lr = dppp.resize_lf(lf_hr, scale_factor, False, resize_fn=resize_fn)\n"
   ]
  },
  {
   "cell_type": "markdown",
   "metadata": {},
   "source": [
    "### Reconstruct\n"
   ]
  },
  {
   "cell_type": "code",
   "execution_count": null,
   "metadata": {},
   "outputs": [],
   "source": [
    "# Load the denoiser\n",
    "denoiser, (denoiser_min, denoiser_max) = dppp.load_denoiser(\"models/drugan+_0.0-0.2.h5\")\n",
    "\n",
    "# Callbacks: Print the PSNR every 5th step\n",
    "callbacks = [dppp.callback_print_psnr(\"psnr\", 5, lf_hr[4, 4])]\n",
    "\n",
    "reconstructed = dppp.hqs_lf_super_resolve(\n",
    "    degraded=lf_lr,\n",
    "    sr_factor=scale_factor,\n",
    "    denoiser=denoiser,\n",
    "    max_denoiser_stddev=denoiser_max,\n",
    "    resize_fn=resize_fn,\n",
    "    callbacks=callbacks,\n",
    ")\n"
   ]
  },
  {
   "cell_type": "code",
   "execution_count": null,
   "metadata": {},
   "outputs": [],
   "source": [
    "# Print PSNR and LPIPS\n",
    "psnr = dppp.psnr(lf_hr[4, 4], reconstructed[0]).numpy()\n",
    "lpips = dppp.lpips_alex(lf_hr[4, 4], reconstructed[0]).numpy()\n",
    "print(f\"Reconstructed PSNR: {psnr:0.2f}, LPIPS: {lpips:0.4f}\")\n",
    "\n",
    "# Visualize\n",
    "visualize.draw_images([lf_hr[4, 4], lf_lr[4, 4], reconstructed[0]])\n"
   ]
  },
  {
   "cell_type": "markdown",
   "metadata": {},
   "source": [
    "# Using a Gaussian Blur Kernel\n"
   ]
  },
  {
   "cell_type": "code",
   "execution_count": null,
   "metadata": {},
   "outputs": [],
   "source": [
    "scale_factor = 4\n",
    "example = datasets.get_one_example(lf_dataset, index=1)\n",
    "lf_hr = example[\"lf\"]\n",
    "\n",
    "kernel = dppp.conv2D_filter_rgb(dppp.ZHANG_GAUSSIAN_KERNELS[0])\n",
    "lf_lr = dppp.resize_lf(\n",
    "    lf_hr, scale_factor, False, dppp.create_convolve_resize_fn(kernel, mode=\"wrap\")\n",
    ")\n"
   ]
  },
  {
   "cell_type": "markdown",
   "metadata": {},
   "source": [
    "### Reconstruct\n"
   ]
  },
  {
   "cell_type": "code",
   "execution_count": null,
   "metadata": {},
   "outputs": [],
   "source": [
    "# Load the denoiser\n",
    "denoiser, (denoiser_min, denoiser_max) = dppp.load_denoiser(\"models/drugan+_0.0-0.2.h5\")\n",
    "\n",
    "# Callbacks: Print the PSNR every 5th step\n",
    "callbacks = [dppp.callback_print_psnr(\"psnr\", 5, lf_hr[4, 4])]\n",
    "\n",
    "reconstructed = dppp.hqs_lf_super_resolve(\n",
    "    degraded=lf_lr,\n",
    "    sr_factor=scale_factor,\n",
    "    denoiser=denoiser,\n",
    "    max_denoiser_stddev=denoiser_max,\n",
    "    kernel=kernel,\n",
    "    callbacks=callbacks,\n",
    ")\n"
   ]
  },
  {
   "cell_type": "code",
   "execution_count": null,
   "metadata": {},
   "outputs": [],
   "source": [
    "# Print PSNR and LPIPS\n",
    "psnr = dppp.psnr(lf_hr[4, 4], reconstructed[0]).numpy()\n",
    "lpips = dppp.lpips_alex(lf_hr[4, 4], reconstructed[0]).numpy()\n",
    "print(f\"Reconstructed PSNR: {psnr:0.2f}, LPIPS: {lpips:0.4f}\")\n",
    "\n",
    "# Visualize\n",
    "visualize.draw_images([lf_hr[4, 4], lf_lr[4, 4], reconstructed[0]])\n"
   ]
  }
 ],
 "metadata": {
  "interpreter": {
   "hash": "31f2aee4e71d21fbe5cf8b01ff0e069b9275f58929596ceb00d14d90e3e16cd6"
  },
  "kernelspec": {
   "display_name": "Python 3.6.9 64-bit",
   "name": "python3"
  },
  "language_info": {
   "codemirror_mode": {
    "name": "ipython",
    "version": 3
   },
   "file_extension": ".py",
   "mimetype": "text/x-python",
   "name": "python",
   "nbconvert_exporter": "python",
   "pygments_lexer": "ipython3",
   "version": "3.6.13"
  }
 },
 "nbformat": 4,
 "nbformat_minor": 2
}
